{
 "cells": [
  {
   "cell_type": "code",
   "execution_count": 2,
   "metadata": {},
   "outputs": [],
   "source": [
    "# 1. **Accessing elements:** "
   ]
  },
  {
   "cell_type": "code",
   "execution_count": 3,
   "metadata": {},
   "outputs": [
    {
     "name": "stdout",
     "output_type": "stream",
     "text": [
      "1\n"
     ]
    }
   ],
   "source": [
    "# - For lists:\n",
    "\n",
    "my_list = [1, 2, 3, 4, 5]\n",
    "print(my_list[0])  # Output: 1"
   ]
  },
  {
   "cell_type": "code",
   "execution_count": 12,
   "metadata": {},
   "outputs": [
    {
     "name": "stdout",
     "output_type": "stream",
     "text": [
      "Alice\n"
     ]
    }
   ],
   "source": [
    "# - For dictionaries:\n",
    "\n",
    "my_dict = {'name': 'Alice', 'age': 30}\n",
    "print(my_dict['name'])  # Output: Alice"
   ]
  },
  {
   "cell_type": "code",
   "execution_count": 13,
   "metadata": {},
   "outputs": [
    {
     "name": "stdout",
     "output_type": "stream",
     "text": [
      "Alice\n"
     ]
    }
   ],
   "source": [
    "# - For dictionaries:\n",
    "\n",
    "my_dict = {'name': 'Alice', 'age': 30}\n",
    "print(my_dict.get('name', ''))  # Output: Alice"
   ]
  },
  {
   "cell_type": "code",
   "execution_count": 25,
   "metadata": {},
   "outputs": [
    {
     "name": "stdout",
     "output_type": "stream",
     "text": [
      "['name: Alice', 'age: 30']\n"
     ]
    }
   ],
   "source": [
    "# - For dictionaries:\n",
    "\n",
    "my_dict = {'name': 'Alice', 'age': 30}\n",
    "print([f\"{k}: {v}\" for k, v in my_dict.items()])"
   ]
  },
  {
   "cell_type": "code",
   "execution_count": 26,
   "metadata": {},
   "outputs": [
    {
     "name": "stdout",
     "output_type": "stream",
     "text": [
      "['name: Alice', 'age: 30']\n"
     ]
    }
   ],
   "source": [
    "# - For dictionaries:\n",
    "\n",
    "my_dict = {'name': 'Alice', 'age': 30}\n",
    "print(list([f\"{k}: {v}\" for k, v in my_dict.items()]))"
   ]
  },
  {
   "cell_type": "code",
   "execution_count": 28,
   "metadata": {},
   "outputs": [
    {
     "name": "stdout",
     "output_type": "stream",
     "text": [
      "['name: Alice', 'age: 30']\n"
     ]
    }
   ],
   "source": [
    "# - For dictionaries:\n",
    "\n",
    "my_dict = {'name': 'Alice', 'age': 30}\n",
    "print([f\"{k}: {v}\" for k, v in list(my_dict.items())])"
   ]
  },
  {
   "cell_type": "code",
   "execution_count": 30,
   "metadata": {},
   "outputs": [
    {
     "name": "stdout",
     "output_type": "stream",
     "text": [
      "False\n"
     ]
    }
   ],
   "source": [
    "# - For dictionaries:\n",
    "\n",
    "my_dict = {'name': 'Alice', 'age': 30}\n",
    "print('name' in my_dict.items())\n"
   ]
  },
  {
   "cell_type": "code",
   "execution_count": 31,
   "metadata": {},
   "outputs": [],
   "source": [
    "# 2. **Adding elements:**"
   ]
  },
  {
   "cell_type": "code",
   "execution_count": 32,
   "metadata": {},
   "outputs": [
    {
     "name": "stdout",
     "output_type": "stream",
     "text": [
      "[1, 2, 3, 4]\n"
     ]
    }
   ],
   "source": [
    "# - For lists:\n",
    "\n",
    "my_list = [1, 2, 3]\n",
    "my_list.append(4)\n",
    "print(my_list)  # Output: [1, 2, 3, 4]"
   ]
  },
  {
   "cell_type": "code",
   "execution_count": 34,
   "metadata": {},
   "outputs": [
    {
     "name": "stdout",
     "output_type": "stream",
     "text": [
      "{'name': 'Alice', 'age': 30}\n"
     ]
    }
   ],
   "source": [
    "# - For dictionaries:\n",
    "\n",
    "my_dict = {'name': 'Alice'}\n",
    "my_dict['age'] = 30\n",
    "print(my_dict)  \n",
    "\n",
    "# Output: {'name': 'Alice', 'age': 30}"
   ]
  },
  {
   "cell_type": "code",
   "execution_count": 35,
   "metadata": {},
   "outputs": [],
   "source": [
    "# 3. **Updating elements:**"
   ]
  },
  {
   "cell_type": "code",
   "execution_count": 36,
   "metadata": {},
   "outputs": [
    {
     "name": "stdout",
     "output_type": "stream",
     "text": [
      "[1, 5, 3]\n"
     ]
    }
   ],
   "source": [
    "# - For lists:\n",
    "\n",
    "my_list = [1, 2, 3]\n",
    "my_list[1] = 5\n",
    "print(my_list)  \n",
    "\n",
    "# Output: [1, 5, 3]"
   ]
  },
  {
   "cell_type": "code",
   "execution_count": 37,
   "metadata": {},
   "outputs": [
    {
     "name": "stdout",
     "output_type": "stream",
     "text": [
      "{'name': 'Alice', 'age': 31}\n"
     ]
    }
   ],
   "source": [
    "# - For dictionaries:\n",
    "\n",
    "my_dict = {'name': 'Alice', 'age': 30}\n",
    "my_dict['age'] = 31\n",
    "print(my_dict)  \n",
    "\n",
    "# Output: {'name': 'Alice', 'age': 31}"
   ]
  },
  {
   "cell_type": "code",
   "execution_count": 38,
   "metadata": {},
   "outputs": [],
   "source": [
    "# 4. **Removing elements:**"
   ]
  },
  {
   "cell_type": "code",
   "execution_count": null,
   "metadata": {},
   "outputs": [],
   "source": [
    "# - For lists:\n",
    "\n",
    "my_list = [1, 2, 3]\n",
    "my_list.remove(2)\n",
    "print(my_list)  # Output: [1, 3]"
   ]
  },
  {
   "cell_type": "code",
   "execution_count": 39,
   "metadata": {},
   "outputs": [
    {
     "name": "stdout",
     "output_type": "stream",
     "text": [
      "{'name': 'Alice'}\n"
     ]
    }
   ],
   "source": [
    "# - For dictionaries:\n",
    "\n",
    "my_dict = {'name': 'Alice', 'age': 30}\n",
    "del my_dict['age']\n",
    "print(my_dict)  # Out"
   ]
  },
  {
   "cell_type": "code",
   "execution_count": 40,
   "metadata": {},
   "outputs": [],
   "source": [
    "# 5. **Looping through:**"
   ]
  },
  {
   "cell_type": "code",
   "execution_count": 42,
   "metadata": {},
   "outputs": [
    {
     "name": "stdout",
     "output_type": "stream",
     "text": [
      "1\n",
      "2\n",
      "3\n"
     ]
    }
   ],
   "source": [
    "# - For lists:\n",
    "\n",
    "my_list = [1, 2, 3]\n",
    "for item in my_list:\n",
    "    print(item)"
   ]
  },
  {
   "cell_type": "code",
   "execution_count": 43,
   "metadata": {},
   "outputs": [
    {
     "name": "stdout",
     "output_type": "stream",
     "text": [
      "name Alice\n",
      "age 30\n"
     ]
    }
   ],
   "source": [
    "# - For dictionaries:\n",
    "\n",
    "my_dict = {'name': 'Alice', 'age': 30}\n",
    "for key, value in my_dict.items():\n",
    "    print(key, value)"
   ]
  },
  {
   "cell_type": "code",
   "execution_count": 44,
   "metadata": {},
   "outputs": [],
   "source": [
    "# 6. **Checking existence:** "
   ]
  },
  {
   "cell_type": "code",
   "execution_count": 45,
   "metadata": {},
   "outputs": [
    {
     "name": "stdout",
     "output_type": "stream",
     "text": [
      "True\n"
     ]
    }
   ],
   "source": [
    "\n",
    "# For lists:\n",
    "\n",
    "my_list = [1, 2, 3]\n",
    "print(2 in my_list)  \n",
    "\n",
    "# Output: True\n"
   ]
  },
  {
   "cell_type": "code",
   "execution_count": 46,
   "metadata": {},
   "outputs": [
    {
     "name": "stdout",
     "output_type": "stream",
     "text": [
      "True\n"
     ]
    }
   ],
   "source": [
    "# For dictionaries:\n",
    " \n",
    "my_dict = {'name': 'Alice', 'age': 30}\n",
    "print('name' in my_dict)  # Output: True"
   ]
  },
  {
   "cell_type": "code",
   "execution_count": 47,
   "metadata": {},
   "outputs": [],
   "source": [
    "# 7. **Sorting:** "
   ]
  },
  {
   "cell_type": "code",
   "execution_count": 48,
   "metadata": {},
   "outputs": [
    {
     "name": "stdout",
     "output_type": "stream",
     "text": [
      "[1, 2, 3]\n"
     ]
    }
   ],
   "source": [
    "# For lists:\n",
    "\n",
    "my_list = [3, 1, 2]\n",
    "my_list.sort()\n",
    "print(my_list)  # Output: [1, 2, 3]\n"
   ]
  },
  {
   "cell_type": "code",
   "execution_count": 49,
   "metadata": {},
   "outputs": [
    {
     "name": "stdout",
     "output_type": "stream",
     "text": [
      "['a', 'b', 'c']\n"
     ]
    }
   ],
   "source": [
    "# For dictionaries (sorting keys):\n",
    "\n",
    "my_dict = {'b': 2, 'a': 1, 'c': 3}\n",
    "sorted_keys = sorted(my_dict.keys())\n",
    "print(sorted_keys)  # Output: ['a', 'b', 'c']"
   ]
  },
  {
   "cell_type": "code",
   "execution_count": 50,
   "metadata": {},
   "outputs": [],
   "source": [
    "# 8. **Merging:** "
   ]
  },
  {
   "cell_type": "code",
   "execution_count": 51,
   "metadata": {},
   "outputs": [
    {
     "name": "stdout",
     "output_type": "stream",
     "text": [
      "[1, 2, 3, 4, 5, 6]\n"
     ]
    }
   ],
   "source": [
    "# For lists:\n",
    "\n",
    "list1 = [1, 2, 3]\n",
    "list2 = [4, 5, 6]\n",
    "merged_list = list1 + list2\n",
    "print(merged_list)  # Output: [1, 2, 3, 4, 5, 6]"
   ]
  },
  {
   "cell_type": "code",
   "execution_count": 52,
   "metadata": {},
   "outputs": [
    {
     "name": "stdout",
     "output_type": "stream",
     "text": [
      "{'a': 1, 'b': 2, 'c': 3, 'd': 4}\n"
     ]
    }
   ],
   "source": [
    "# For dictionaries:\n",
    "\n",
    "dict1 = {'a': 1, 'b': 2}\n",
    "dict2 = {'c': 3, 'd': 4}\n",
    "dict1.update(dict2)\n",
    "print(dict1)  # Output: {'a': 1, 'b': 2, 'c': 3, 'd': 4}"
   ]
  },
  {
   "cell_type": "code",
   "execution_count": 53,
   "metadata": {},
   "outputs": [],
   "source": [
    "# 9. **Filtering:** "
   ]
  },
  {
   "cell_type": "code",
   "execution_count": 54,
   "metadata": {},
   "outputs": [
    {
     "name": "stdout",
     "output_type": "stream",
     "text": [
      "[2, 4]\n"
     ]
    }
   ],
   "source": [
    "# For lists:\n",
    "\n",
    "my_list = [1, 2, 3, 4, 5]\n",
    "filtered_list = [x for x in my_list if x % 2 == 0]\n",
    "print(filtered_list)  # Output: [2, 4]"
   ]
  },
  {
   "cell_type": "code",
   "execution_count": 55,
   "metadata": {},
   "outputs": [
    {
     "name": "stdout",
     "output_type": "stream",
     "text": [
      "{'b': 2, 'd': 4}\n"
     ]
    }
   ],
   "source": [
    "# For dictionaries:\n",
    "\n",
    "my_dict = {'a': 1, 'b': 2, 'c': 3, 'd': 4}\n",
    "filtered_dict = {k: v for k, v in my_dict.items() if v % 2 == 0}\n",
    "print(filtered_dict)  # Output: {'b': 2, 'd': 4}"
   ]
  },
  {
   "cell_type": "code",
   "execution_count": 56,
   "metadata": {},
   "outputs": [],
   "source": [
    "# 10. **Mapping and reducing:** "
   ]
  },
  {
   "cell_type": "code",
   "execution_count": 59,
   "metadata": {},
   "outputs": [
    {
     "name": "stdout",
     "output_type": "stream",
     "text": [
      "[2, 4, 6]\n"
     ]
    }
   ],
   "source": [
    "# For lists (mapping):\n",
    " \n",
    "my_list = [1, 2, 3]\n",
    "doubled_list = list(map(lambda x: x * 2, my_list))\n",
    "print(doubled_list)  \n",
    "\n",
    "# Output: [2, 4, 6]\n"
   ]
  },
  {
   "cell_type": "code",
   "execution_count": 58,
   "metadata": {},
   "outputs": [
    {
     "name": "stdout",
     "output_type": "stream",
     "text": [
      "{'a': 1, 'b': 4, 'c': 9}\n"
     ]
    }
   ],
   "source": [
    "# For dictionaries (mapping):\n",
    " \n",
    "my_dict = {'a': 1, 'b': 2, 'c': 3}\n",
    "squared_dict = {k: v ** 2 for k, v in my_dict.items()}\n",
    "print(squared_dict)  # Output: {'a': 1, 'b': 4, 'c': 9}"
   ]
  },
  {
   "cell_type": "code",
   "execution_count": null,
   "metadata": {},
   "outputs": [],
   "source": []
  }
 ],
 "metadata": {
  "kernelspec": {
   "display_name": "ORM_TEST",
   "language": "python",
   "name": "python3"
  },
  "language_info": {
   "codemirror_mode": {
    "name": "ipython",
    "version": 3
   },
   "file_extension": ".py",
   "mimetype": "text/x-python",
   "name": "python",
   "nbconvert_exporter": "python",
   "pygments_lexer": "ipython3",
   "version": "3.9.18"
  }
 },
 "nbformat": 4,
 "nbformat_minor": 2
}
