{
 "cells": [
  {
   "cell_type": "code",
   "execution_count": 1,
   "metadata": {},
   "outputs": [],
   "source": [
    "from peewee import *\n",
    "from random import randint\n",
    "from typing import Any, Callable, TypeVar\n",
    "import json"
   ]
  },
  {
   "cell_type": "code",
   "execution_count": 2,
   "metadata": {},
   "outputs": [],
   "source": [
    "T = TypeVar('T')"
   ]
  },
  {
   "cell_type": "code",
   "execution_count": 3,
   "metadata": {},
   "outputs": [],
   "source": [
    "def pad_start(width, fillchar, number) -> int:\n",
    "    return int(str(number).rjust(width, fillchar))\n",
    "\n",
    "def pad_end(width, fillchar, number) -> int:\n",
    "    return int(str(number).ljust(width, fillchar))"
   ]
  },
  {
   "cell_type": "code",
   "execution_count": 4,
   "metadata": {},
   "outputs": [
    {
     "name": "stdout",
     "output_type": "stream",
     "text": [
      "24744309\n"
     ]
    }
   ],
   "source": [
    "\n",
    "def get_random_integer(min_value: T = 1, max_value: T = 9) -> int:\n",
    "    min = pad_start(7,'1', pad_end(6, '0', min_value))\n",
    "    max = pad_start(8, '9', pad_end(7, '9', max_value))\n",
    "    return randint(min, max)\n",
    "\n",
    "rand_number = get_random_integer()\n",
    "\n",
    "print(rand_number)"
   ]
  },
  {
   "cell_type": "code",
   "execution_count": 5,
   "metadata": {},
   "outputs": [
    {
     "name": "stdout",
     "output_type": "stream",
     "text": [
      "notebooks_3_57870875.db\n"
     ]
    }
   ],
   "source": [
    "database_name = 'notebooks_3_{}.db'.format(get_random_integer())\n",
    "print(database_name)"
   ]
  },
  {
   "cell_type": "code",
   "execution_count": 6,
   "metadata": {},
   "outputs": [],
   "source": [
    "# db = SqliteDatabase(database_name, pragmas={'journal_mode':'wal','foreing_keys':1})\n",
    "db = SqliteDatabase(database_name, pragmas={'foreing_keys':1})"
   ]
  },
  {
   "cell_type": "code",
   "execution_count": 7,
   "metadata": {},
   "outputs": [],
   "source": [
    "# dir(db)"
   ]
  },
  {
   "cell_type": "code",
   "execution_count": 8,
   "metadata": {},
   "outputs": [],
   "source": [
    "db.connection();"
   ]
  },
  {
   "cell_type": "code",
   "execution_count": 9,
   "metadata": {},
   "outputs": [],
   "source": [
    "class BaseModel(Model):\n",
    "    class Meta:\n",
    "        database = db"
   ]
  },
  {
   "cell_type": "code",
   "execution_count": 10,
   "metadata": {},
   "outputs": [],
   "source": [
    "class Person(BaseModel):\n",
    "    id = AutoField()\n",
    "    first_name = CharField()\n",
    "    last_name = CharField()\n",
    "    phone = CharField(null=True)\n",
    "    \n",
    "class Experience(BaseModel):\n",
    "    id = AutoField()\n",
    "    title = CharField()\n",
    "    company = CharField()\n",
    "    start_date = DateField()\n",
    "    end_date = DateField(null=True)\n",
    "    person = ForeignKeyField(Person, backref='experiences')\n",
    "    \n",
    "class Contact(BaseModel):\n",
    "    id = AutoField()\n",
    "    nickname = CharField()\n",
    "    owner = ForeignKeyField(Person, backref='contacts')\n",
    "\n",
    "class Phone(BaseModel):\n",
    "    id = AutoField()\n",
    "    type = CharField()\n",
    "    number = CharField()\n",
    "    contact = ForeignKeyField(Contact, backref='phones')\n"
   ]
  },
  {
   "cell_type": "code",
   "execution_count": 11,
   "metadata": {},
   "outputs": [],
   "source": [
    "db.create_tables([Person, Experience, Contact, Phone])"
   ]
  },
  {
   "cell_type": "code",
   "execution_count": 12,
   "metadata": {},
   "outputs": [],
   "source": [
    "data = {\n",
    "    'person_record': {\n",
    "        'first_name': 'Gabriel',\n",
    "        'last_name': 'Ariza',\n",
    "        'phone': '1234567890'\n",
    "    },\n",
    "    'experience_records': [\n",
    "        {\n",
    "            'title'      :      'Developer',\n",
    "            'company'    :      'Google',\n",
    "            'start_date' :      '2018-01-01',\n",
    "            'end_date'   :      '2018-02-01',\n",
    "            'person_id'     :      0\n",
    "        }\n",
    "    ],\n",
    "    'contact_records': [\n",
    "        {\n",
    "            'nickname': 'john_doe',\n",
    "            'owner_id': 0\n",
    "        }\n",
    "    ],\n",
    "\n",
    "    'phone_records': [\n",
    "        {\n",
    "            'type': 'home',\n",
    "            'number': '1234567890',\n",
    "            'contact_id': 0\n",
    "        }\n",
    "    ]\n",
    "}\n"
   ]
  },
  {
   "cell_type": "code",
   "execution_count": 13,
   "metadata": {},
   "outputs": [
    {
     "name": "stdout",
     "output_type": "stream",
     "text": [
      "[\n",
      "    {\n",
      "        \"first_name\": \"Gabriel\",\n",
      "        \"last_name\": \"Ariza\",\n",
      "        \"phone\": \"1234567890\"\n",
      "    }\n",
      "]\n"
     ]
    }
   ],
   "source": [
    "insert_data = data.get('person_record', {})\n",
    "print(json.dumps([insert_data], indent=4))"
   ]
  },
  {
   "cell_type": "code",
   "execution_count": 14,
   "metadata": {},
   "outputs": [
    {
     "name": "stdout",
     "output_type": "stream",
     "text": [
      "[\n",
      "    {\n",
      "        \"first_name\": \"Gabriel\",\n",
      "        \"last_name\": \"Ariza\",\n",
      "        \"phone\": \"1234567890\",\n",
      "        \"id\": 1\n",
      "    }\n",
      "]\n"
     ]
    }
   ],
   "source": [
    "insert_response = Person.create(**insert_data)\n",
    "print(json.dumps([insert_response.__data__], indent=4))\n",
    "# dir(insert_response)"
   ]
  },
  {
   "cell_type": "code",
   "execution_count": 15,
   "metadata": {},
   "outputs": [
    {
     "name": "stdout",
     "output_type": "stream",
     "text": [
      "[\n",
      "    {\n",
      "        \"first_name\": \"Gabriel\",\n",
      "        \"last_name\": \"Ariza\",\n",
      "        \"phone\": \"1234567890\",\n",
      "        \"experiences\": [\n",
      "            {\n",
      "                \"title\": \"Developer\",\n",
      "                \"company\": \"Google\",\n",
      "                \"start_date\": \"2018-01-01\",\n",
      "                \"end_date\": \"2018-02-01\",\n",
      "                \"person_id\": 0\n",
      "            }\n",
      "        ],\n",
      "        \"contacts\": [\n",
      "            {\n",
      "                \"nickname\": \"1. john_doe\",\n",
      "                \"owner_id\": 0,\n",
      "                \"phones\": [\n",
      "                    {\n",
      "                        \"type\": \"home\",\n",
      "                        \"number\": \"1234567890\",\n",
      "                        \"contact_id\": 0\n",
      "                    }\n",
      "                ]\n",
      "            }\n",
      "        ]\n",
      "    }\n",
      "]\n"
     ]
    }
   ],
   "source": [
    "insert_data = data.get('person_record', {})\n",
    "insert_data['experiences'] = data.get('experience_records', [])\n",
    "insert_data['contacts'] = data.get('contact_records', [])\n",
    "for i, contact in enumerate(insert_data['contacts']):\n",
    "    contact.update({'nickname': '{}. {}'.format((i + 1), contact.get('nickname', ''))})\n",
    "    contact['phones'] = data.get('phone_records', [])\n",
    "\n",
    "print(json.dumps([insert_data], indent=4))"
   ]
  },
  {
   "cell_type": "code",
   "execution_count": 16,
   "metadata": {},
   "outputs": [],
   "source": [
    "# The create method should insert the person record into the database\n",
    "insert_response = Person.create(**insert_data)"
   ]
  },
  {
   "cell_type": "code",
   "execution_count": 17,
   "metadata": {},
   "outputs": [
    {
     "name": "stdout",
     "output_type": "stream",
     "text": [
      "<Model: Person>\n",
      "2\n",
      "2\n"
     ]
    }
   ],
   "source": [
    "print(type(insert_response)) # Should to be the class model: Person <Model: Person>\n",
    "print(insert_response) # Should to output the person primary key (id) value (2)\n",
    "print(insert_response.id) # Should be the same value as above as the both are outputting the primary key (id) value (2)"
   ]
  },
  {
   "cell_type": "code",
   "execution_count": 18,
   "metadata": {},
   "outputs": [
    {
     "name": "stdout",
     "output_type": "stream",
     "text": [
      "[\n",
      "  {\n",
      "    \"first_name\": \"Gabriel\",\n",
      "    \"last_name\": \"Ariza\",\n",
      "    \"phone\": \"1234567890\",\n",
      "    \"id\": 2\n",
      "  }\n",
      "]\n"
     ]
    }
   ],
   "source": [
    "print(json.dumps([insert_response.__data__], indent=2))"
   ]
  },
  {
   "cell_type": "code",
   "execution_count": 19,
   "metadata": {},
   "outputs": [
    {
     "name": "stdout",
     "output_type": "stream",
     "text": [
      "[\n",
      "  [\n",
      "    {\n",
      "      \"title\": \"Developer\",\n",
      "      \"company\": \"Google\",\n",
      "      \"start_date\": \"2018-01-01\",\n",
      "      \"end_date\": \"2018-02-01\",\n",
      "      \"person_id\": 0\n",
      "    }\n",
      "  ]\n",
      "]\n"
     ]
    }
   ],
   "source": [
    "print(json.dumps([insert_response.experiences], indent=2))"
   ]
  },
  {
   "cell_type": "code",
   "execution_count": 20,
   "metadata": {},
   "outputs": [],
   "source": [
    "for exp in insert_response.experiences:\n",
    "    exp.update({'person_id': insert_response.id})"
   ]
  },
  {
   "cell_type": "code",
   "execution_count": 21,
   "metadata": {},
   "outputs": [
    {
     "name": "stdout",
     "output_type": "stream",
     "text": [
      "[\n",
      "  {\n",
      "    \"title\": \"Developer\",\n",
      "    \"company\": \"Google\",\n",
      "    \"start_date\": \"2018-01-01\",\n",
      "    \"end_date\": \"2018-02-01\",\n",
      "    \"person_id\": 2\n",
      "  }\n",
      "]\n"
     ]
    }
   ],
   "source": [
    "print(json.dumps(insert_response.experiences, indent=2))"
   ]
  },
  {
   "cell_type": "code",
   "execution_count": 22,
   "metadata": {},
   "outputs": [
    {
     "name": "stdout",
     "output_type": "stream",
     "text": [
      "[\n",
      "    {\n",
      "        \"nickname\": \"1. john_doe\",\n",
      "        \"owner_id\": 0,\n",
      "        \"phones\": [\n",
      "            {\n",
      "                \"type\": \"home\",\n",
      "                \"number\": \"1234567890\",\n",
      "                \"contact_id\": 0\n",
      "            }\n",
      "        ]\n",
      "    }\n",
      "]\n"
     ]
    }
   ],
   "source": [
    "print(json.dumps(insert_response.contacts, indent=4))"
   ]
  },
  {
   "cell_type": "code",
   "execution_count": 23,
   "metadata": {},
   "outputs": [],
   "source": [
    "for contact in insert_response.contacts:\n",
    "    contact.update({'owner_id': insert_response.id})"
   ]
  },
  {
   "cell_type": "code",
   "execution_count": 24,
   "metadata": {},
   "outputs": [
    {
     "name": "stdout",
     "output_type": "stream",
     "text": [
      "[\n",
      "    {\n",
      "        \"nickname\": \"1. john_doe\",\n",
      "        \"owner_id\": 2,\n",
      "        \"phones\": [\n",
      "            {\n",
      "                \"type\": \"home\",\n",
      "                \"number\": \"1234567890\",\n",
      "                \"contact_id\": 0\n",
      "            }\n",
      "        ]\n",
      "    }\n",
      "]\n"
     ]
    }
   ],
   "source": [
    "print(json.dumps(insert_response.contacts, indent=4))"
   ]
  },
  {
   "cell_type": "code",
   "execution_count": 25,
   "metadata": {},
   "outputs": [],
   "source": [
    "experiencesEntity: list[Experience] = []\n",
    "for index, exp in enumerate(insert_response.experiences):\n",
    "    expEntity = Experience(**exp)\n",
    "    expEntity.save()\n",
    "    experiencesEntity.append(expEntity)"
   ]
  },
  {
   "cell_type": "code",
   "execution_count": 26,
   "metadata": {},
   "outputs": [
    {
     "name": "stdout",
     "output_type": "stream",
     "text": [
      "<Model: Experience>\n"
     ]
    }
   ],
   "source": [
    "print(type(experiencesEntity[0]))"
   ]
  },
  {
   "cell_type": "code",
   "execution_count": 27,
   "metadata": {},
   "outputs": [
    {
     "name": "stdout",
     "output_type": "stream",
     "text": [
      "<Model: Person>\n"
     ]
    }
   ],
   "source": [
    "print(type(experiencesEntity[0].person))"
   ]
  },
  {
   "cell_type": "code",
   "execution_count": 28,
   "metadata": {},
   "outputs": [
    {
     "name": "stdout",
     "output_type": "stream",
     "text": [
      "[\n",
      "    {\n",
      "        \"id\": 2,\n",
      "        \"first_name\": \"Gabriel\",\n",
      "        \"last_name\": \"Ariza\",\n",
      "        \"phone\": \"1234567890\"\n",
      "    }\n",
      "]\n"
     ]
    }
   ],
   "source": [
    "print(json.dumps([experiencesEntity[0].person.__data__], indent=4))"
   ]
  },
  {
   "cell_type": "code",
   "execution_count": 29,
   "metadata": {},
   "outputs": [],
   "source": [
    "contactsEntity: list[Contact] = []\n",
    "for index, contact in enumerate(insert_response.contacts):\n",
    "    contactEntity = Contact(**contact)\n",
    "    contactEntity.save()\n",
    "    contactsEntity.append(contactEntity)"
   ]
  },
  {
   "cell_type": "code",
   "execution_count": 30,
   "metadata": {},
   "outputs": [],
   "source": [
    "lent_contactsEntity = len(contactsEntity)"
   ]
  },
  {
   "cell_type": "code",
   "execution_count": 31,
   "metadata": {},
   "outputs": [
    {
     "name": "stdout",
     "output_type": "stream",
     "text": [
      "1\n"
     ]
    }
   ],
   "source": [
    "print(lent_contactsEntity)"
   ]
  },
  {
   "cell_type": "code",
   "execution_count": 32,
   "metadata": {},
   "outputs": [
    {
     "name": "stdout",
     "output_type": "stream",
     "text": [
      "<Model: Contact>\n"
     ]
    }
   ],
   "source": [
    "print(type(contactsEntity[0]) if lent_contactsEntity >= 1 else 'no contacts')"
   ]
  },
  {
   "cell_type": "code",
   "execution_count": 33,
   "metadata": {},
   "outputs": [
    {
     "name": "stdout",
     "output_type": "stream",
     "text": [
      "<Model: Person>\n"
     ]
    }
   ],
   "source": [
    "print(type(contactsEntity[0].owner) if lent_contactsEntity >= 1 else 'no contact to access his owner')"
   ]
  },
  {
   "cell_type": "code",
   "execution_count": 34,
   "metadata": {},
   "outputs": [
    {
     "name": "stdout",
     "output_type": "stream",
     "text": [
      "<class 'list'>\n"
     ]
    }
   ],
   "source": [
    "print(type(contactsEntity[0].phones) if lent_contactsEntity >= 1 else 'no contact to access his phones')"
   ]
  },
  {
   "cell_type": "code",
   "execution_count": 35,
   "metadata": {},
   "outputs": [
    {
     "name": "stdout",
     "output_type": "stream",
     "text": [
      "[\n",
      "  {\n",
      "    \"nickname\": \"1. john_doe\",\n",
      "    \"owner_id\": 2,\n",
      "    \"phones\": [\n",
      "      {\n",
      "        \"type\": \"home\",\n",
      "        \"number\": \"1234567890\",\n",
      "        \"contact_id\": 0\n",
      "      }\n",
      "    ]\n",
      "  }\n",
      "]\n"
     ]
    }
   ],
   "source": [
    "print(json.dumps(insert_response.contacts, indent=2))"
   ]
  },
  {
   "cell_type": "code",
   "execution_count": 36,
   "metadata": {},
   "outputs": [
    {
     "name": "stdout",
     "output_type": "stream",
     "text": [
      "[\n",
      "  {\n",
      "    \"type\": \"home\",\n",
      "    \"number\": \"1234567890\",\n",
      "    \"contact_id\": 0\n",
      "  }\n",
      "]\n"
     ]
    }
   ],
   "source": [
    "print(json.dumps(contactsEntity[0].phones, indent=2))"
   ]
  },
  {
   "cell_type": "code",
   "execution_count": 37,
   "metadata": {},
   "outputs": [
    {
     "name": "stdout",
     "output_type": "stream",
     "text": [
      "1\n"
     ]
    }
   ],
   "source": [
    "print(contactsEntity[0].id)"
   ]
  },
  {
   "cell_type": "code",
   "execution_count": 38,
   "metadata": {},
   "outputs": [],
   "source": [
    "\n",
    "for c in contactsEntity:\n",
    "    phone_entity_list:list[Phone] = []\n",
    "    for p in c.phones:\n",
    "        p.update({'contact_id': c.id})\n",
    "        phoneEntity = Phone(**p)\n",
    "        phoneEntity.save()\n",
    "        phone_entity_list.append(phoneEntity)\n",
    "    # update the contact phones with the phone_entity_list\n",
    "    # c.update({'phones': phone_entity_list})\n",
    "    c.phones = phone_entity_list\n",
    "    "
   ]
  },
  {
   "cell_type": "code",
   "execution_count": 39,
   "metadata": {},
   "outputs": [
    {
     "name": "stdout",
     "output_type": "stream",
     "text": [
      "[\n",
      "  {\n",
      "    \"type\": \"home\",\n",
      "    \"number\": \"1234567890\",\n",
      "    \"contact\": 1,\n",
      "    \"id\": 1\n",
      "  }\n",
      "]\n"
     ]
    }
   ],
   "source": [
    "phones = []\n",
    "for c in contactsEntity:\n",
    "    for p in c.phones:\n",
    "        phones.append(p.__data__)\n",
    "\n",
    "print(json.dumps(phones, indent=2))"
   ]
  },
  {
   "cell_type": "code",
   "execution_count": 40,
   "metadata": {},
   "outputs": [
    {
     "data": {
      "text/plain": [
       "{'type': 'home', 'number': '1234567890', 'contact': 1, 'id': 1}"
      ]
     },
     "execution_count": 40,
     "metadata": {},
     "output_type": "execute_result"
    }
   ],
   "source": [
    "contactsEntity[0].phones[0].__data__"
   ]
  },
  {
   "cell_type": "code",
   "execution_count": 41,
   "metadata": {},
   "outputs": [
    {
     "data": {
      "text/plain": [
       "{'id': 1, 'nickname': '1. john_doe', 'owner': 2}"
      ]
     },
     "execution_count": 41,
     "metadata": {},
     "output_type": "execute_result"
    }
   ],
   "source": [
    "contactsEntity[0].phones[0].contact.__data__"
   ]
  },
  {
   "cell_type": "code",
   "execution_count": 42,
   "metadata": {},
   "outputs": [
    {
     "data": {
      "text/plain": [
       "{'id': 2, 'first_name': 'Gabriel', 'last_name': 'Ariza', 'phone': '1234567890'}"
      ]
     },
     "execution_count": 42,
     "metadata": {},
     "output_type": "execute_result"
    }
   ],
   "source": [
    "contactsEntity[0].phones[0].contact.owner.__data__"
   ]
  },
  {
   "cell_type": "code",
   "execution_count": 43,
   "metadata": {},
   "outputs": [
    {
     "data": {
      "text/plain": [
       "{'id': 1,\n",
       " 'title': 'Developer',\n",
       " 'company': 'Google',\n",
       " 'start_date': datetime.date(2018, 1, 1),\n",
       " 'end_date': datetime.date(2018, 2, 1),\n",
       " 'person': 2}"
      ]
     },
     "execution_count": 43,
     "metadata": {},
     "output_type": "execute_result"
    }
   ],
   "source": [
    "contactsEntity[0].phones[0].contact.owner.experiences[0].__data__"
   ]
  },
  {
   "cell_type": "code",
   "execution_count": 44,
   "metadata": {},
   "outputs": [
    {
     "name": "stdout",
     "output_type": "stream",
     "text": [
      "[\n",
      "  {\n",
      "    \"id\": 1,\n",
      "    \"title\": \"Developer\",\n",
      "    \"company\": \"Google\",\n",
      "    \"start_date\": \"2018-01-01\",\n",
      "    \"end_date\": \"2018-02-01\",\n",
      "    \"person\": 2\n",
      "  }\n",
      "]\n"
     ]
    }
   ],
   "source": [
    "phone_contact_owner_experience_list = []\n",
    "for phone_contact_owner_experience in contactsEntity[0].phones[0].contact.owner.experiences:\n",
    "    phone_contact_owner_experience.__data__.update({'start_date': phone_contact_owner_experience.__data__['start_date'].__str__()})\n",
    "    phone_contact_owner_experience.__data__.update({'end_date': phone_contact_owner_experience.__data__['end_date'].__str__()})\n",
    "    phone_contact_owner_experience_list.append(phone_contact_owner_experience.__data__)\n",
    "# print(json.dumps(phone_contact_owner_experience_list, indent=2))\n",
    "print(json.dumps(phone_contact_owner_experience_list, indent=2))"
   ]
  },
  {
   "cell_type": "code",
   "execution_count": 45,
   "metadata": {},
   "outputs": [],
   "source": [
    "insert_response.experiences = experiencesEntity\n",
    "insert_response.contacts = contactsEntity"
   ]
  },
  {
   "cell_type": "code",
   "execution_count": 46,
   "metadata": {},
   "outputs": [
    {
     "name": "stdout",
     "output_type": "stream",
     "text": [
      "Gabriel\n",
      "Gabriel\n"
     ]
    }
   ],
   "source": [
    "print(insert_response.experiences[0].person.first_name)\n",
    "print(insert_response.contacts[0].owner.first_name)"
   ]
  },
  {
   "cell_type": "code",
   "execution_count": 47,
   "metadata": {},
   "outputs": [],
   "source": [
    "\n",
    "try:\n",
    "    insert_response.__data__['experiences'] = insert_response.experiences\n",
    "    insert_response.__data__['contacts'] = insert_response.contacts\n",
    "except Exception as e:\n",
    "    print(e)\n",
    "\n"
   ]
  },
  {
   "cell_type": "code",
   "execution_count": 48,
   "metadata": {},
   "outputs": [
    {
     "name": "stdout",
     "output_type": "stream",
     "text": [
      "[<Person: 2>]\n"
     ]
    }
   ],
   "source": [
    "print([insert_response])"
   ]
  },
  {
   "cell_type": "code",
   "execution_count": 49,
   "metadata": {},
   "outputs": [
    {
     "name": "stdout",
     "output_type": "stream",
     "text": [
      "[<Experience: 1>]\n"
     ]
    }
   ],
   "source": [
    "print(insert_response.experiences)"
   ]
  },
  {
   "cell_type": "code",
   "execution_count": 50,
   "metadata": {},
   "outputs": [
    {
     "name": "stdout",
     "output_type": "stream",
     "text": [
      "[<Contact: 1>]\n"
     ]
    }
   ],
   "source": [
    "print(insert_response.contacts)"
   ]
  },
  {
   "cell_type": "code",
   "execution_count": 51,
   "metadata": {},
   "outputs": [
    {
     "name": "stdout",
     "output_type": "stream",
     "text": [
      "[<Phone: 1>]\n"
     ]
    }
   ],
   "source": [
    "print(insert_response.contacts[0].phones)"
   ]
  },
  {
   "cell_type": "code",
   "execution_count": 52,
   "metadata": {},
   "outputs": [
    {
     "name": "stdout",
     "output_type": "stream",
     "text": [
      "first_name :  Gabriel\n",
      "last_name :  Ariza\n",
      "phone :  1234567890\n",
      "id :  2\n",
      "experiences :  [<Experience: 1>]\n",
      "contacts :  [<Contact: 1>]\n"
     ]
    }
   ],
   "source": [
    "for k,v in insert_response.__data__.items():\n",
    "    print(k,': ',v)"
   ]
  },
  {
   "cell_type": "code",
   "execution_count": 53,
   "metadata": {},
   "outputs": [],
   "source": [
    "experiences = Experience().select()"
   ]
  },
  {
   "cell_type": "code",
   "execution_count": 54,
   "metadata": {},
   "outputs": [
    {
     "name": "stdout",
     "output_type": "stream",
     "text": [
      "[<Experience: 1>]\n"
     ]
    }
   ],
   "source": [
    "print([exp for exp in experiences])"
   ]
  },
  {
   "cell_type": "code",
   "execution_count": 55,
   "metadata": {},
   "outputs": [],
   "source": [
    "contacts = Contact.select() # The person contacts should be retrived"
   ]
  },
  {
   "cell_type": "code",
   "execution_count": 56,
   "metadata": {},
   "outputs": [
    {
     "name": "stdout",
     "output_type": "stream",
     "text": [
      "[<Contact: 1>]\n"
     ]
    }
   ],
   "source": [
    "print([c for c in contacts])"
   ]
  },
  {
   "cell_type": "code",
   "execution_count": 57,
   "metadata": {},
   "outputs": [
    {
     "name": "stdout",
     "output_type": "stream",
     "text": [
      "1\n",
      "1\n"
     ]
    }
   ],
   "source": [
    "print(len(insert_response.contacts[0].phones))\n",
    "print(len(contacts[0].phones))"
   ]
  },
  {
   "cell_type": "code",
   "execution_count": 58,
   "metadata": {},
   "outputs": [
    {
     "name": "stdout",
     "output_type": "stream",
     "text": [
      "1. john_doe\n",
      "1234567890\n"
     ]
    }
   ],
   "source": [
    "print(insert_response.contacts[0].nickname)\n",
    "print(insert_response.contacts[0].phones[0].number)"
   ]
  },
  {
   "cell_type": "code",
   "execution_count": 59,
   "metadata": {},
   "outputs": [
    {
     "data": {
      "text/plain": [
       "True"
      ]
     },
     "execution_count": 59,
     "metadata": {},
     "output_type": "execute_result"
    }
   ],
   "source": [
    "db.close()"
   ]
  }
 ],
 "metadata": {
  "kernelspec": {
   "display_name": "ORM_TEST",
   "language": "python",
   "name": "python3"
  },
  "language_info": {
   "codemirror_mode": {
    "name": "ipython",
    "version": 3
   },
   "file_extension": ".py",
   "mimetype": "text/x-python",
   "name": "python",
   "nbconvert_exporter": "python",
   "pygments_lexer": "ipython3",
   "version": "3.9.18"
  }
 },
 "nbformat": 4,
 "nbformat_minor": 2
}
