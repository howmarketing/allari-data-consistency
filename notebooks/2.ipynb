{
 "cells": [
  {
   "cell_type": "code",
   "execution_count": null,
   "metadata": {},
   "outputs": [],
   "source": [
    "from peewee import *\n",
    "from random import randint\n",
    "from typing import Any, Callable, TypeVar\n",
    "import json"
   ]
  },
  {
   "cell_type": "code",
   "execution_count": null,
   "metadata": {},
   "outputs": [],
   "source": [
    "T = TypeVar('T')"
   ]
  },
  {
   "cell_type": "code",
   "execution_count": null,
   "metadata": {},
   "outputs": [],
   "source": [
    "def pad_start(width, fillchar, number) -> int:\n",
    "    return int(str(number).rjust(width, fillchar))\n",
    "\n",
    "def pad_end(width, fillchar, number) -> int:\n",
    "    return int(str(number).ljust(width, fillchar))"
   ]
  },
  {
   "cell_type": "code",
   "execution_count": null,
   "metadata": {},
   "outputs": [],
   "source": [
    "\n",
    "def get_random_integer(min_value: T = 1, max_value: T = 9) -> int:\n",
    "    min = pad_start(7,'1', pad_end(6, '0', min_value))\n",
    "    max = pad_start(8, '9', pad_end(7, '9', max_value))\n",
    "    return randint(min, max)\n",
    "\n",
    "rand_number = get_random_integer()\n",
    "\n",
    "print(rand_number)"
   ]
  },
  {
   "cell_type": "code",
   "execution_count": null,
   "metadata": {},
   "outputs": [],
   "source": [
    "database_name = 'notebooks_2_{}.db'.format(get_random_integer())\n",
    "print(database_name)"
   ]
  },
  {
   "cell_type": "code",
   "execution_count": null,
   "metadata": {},
   "outputs": [],
   "source": [
    "db = SqliteDatabase(database_name)"
   ]
  },
  {
   "cell_type": "code",
   "execution_count": null,
   "metadata": {},
   "outputs": [],
   "source": [
    "dir(db)"
   ]
  },
  {
   "cell_type": "code",
   "execution_count": null,
   "metadata": {},
   "outputs": [],
   "source": [
    "db.connection();"
   ]
  },
  {
   "cell_type": "code",
   "execution_count": null,
   "metadata": {},
   "outputs": [],
   "source": [
    "class BaseModel(Model):\n",
    "    class Meta:\n",
    "        database = db"
   ]
  },
  {
   "cell_type": "code",
   "execution_count": null,
   "metadata": {},
   "outputs": [],
   "source": [
    "class Person(BaseModel):\n",
    "    id = AutoField()\n",
    "    first_name = CharField()\n",
    "    last_name = CharField()\n",
    "    phone = CharField(null=True)\n",
    "    \n",
    "class Experience(BaseModel):\n",
    "    id = AutoField()\n",
    "    title = CharField()\n",
    "    company = CharField()\n",
    "    start_date = DateField()\n",
    "    end_date = DateField(null=True)\n",
    "    person = ForeignKeyField(Person, backref='experiences')\n",
    "    \n",
    "class Contact(BaseModel):\n",
    "    id = AutoField()\n",
    "    nickname = CharField()\n",
    "    owner = ForeignKeyField(Person, backref='contacts')\n",
    "\n",
    "class Phone(BaseModel):\n",
    "    id = AutoField()\n",
    "    type = CharField()\n",
    "    number = CharField()\n",
    "    contact = ForeignKeyField(Contact, backref='phones')\n"
   ]
  },
  {
   "cell_type": "code",
   "execution_count": null,
   "metadata": {},
   "outputs": [],
   "source": [
    "db.create_tables([Person, Experience, Contact, Phone])"
   ]
  },
  {
   "cell_type": "code",
   "execution_count": null,
   "metadata": {},
   "outputs": [],
   "source": [
    "data = {\n",
    "    'person_record': {\n",
    "        'first_name': 'Gabriel',\n",
    "        'last_name': 'Ariza',\n",
    "        'phone': '1234567890'\n",
    "    },\n",
    "    'experience_records': [\n",
    "        {\n",
    "            'title'      :      'Developer',\n",
    "            'company'    :      'Google',\n",
    "            'start_date' :      '2018-01-01',\n",
    "            'end_date'   :      '2018-02-01',\n",
    "            'person_id'     :      0\n",
    "        }\n",
    "    ],\n",
    "    'contact_records': [\n",
    "        {\n",
    "            'nickname': 'john_doe',\n",
    "            'owner_id': 0\n",
    "        }\n",
    "    ],\n",
    "\n",
    "    'phone_records': [\n",
    "        {\n",
    "            'type': 'home',\n",
    "            'number': '1234567890',\n",
    "            'contact_id': 0\n",
    "        }\n",
    "    ]\n",
    "}\n"
   ]
  },
  {
   "cell_type": "code",
   "execution_count": null,
   "metadata": {},
   "outputs": [],
   "source": [
    "insert_data = data.get('person_record', {})\n",
    "print(json.dumps([insert_data], indent=4))"
   ]
  },
  {
   "cell_type": "code",
   "execution_count": null,
   "metadata": {},
   "outputs": [],
   "source": [
    "insert_response = Person.create(**insert_data)\n",
    "print(json.dumps([insert_response.__data__], indent=4))\n",
    "# dir(insert_response)"
   ]
  },
  {
   "cell_type": "code",
   "execution_count": null,
   "metadata": {},
   "outputs": [],
   "source": [
    "insert_data = data.get('person_record', {})\n",
    "insert_data['experiences'] = data.get('experience_records', [])\n",
    "insert_data['contacts'] = data.get('contact_records', [])\n",
    "for i, contact in enumerate(insert_data['contacts']):\n",
    "    contact.update({'nickname': '{}. {}'.format((i + 1), contact.get('nickname', ''))})\n",
    "    contact['phones'] = data.get('phone_records', [])\n",
    "\n",
    "print(json.dumps([insert_data], indent=4))"
   ]
  },
  {
   "cell_type": "code",
   "execution_count": null,
   "metadata": {},
   "outputs": [],
   "source": [
    "insert_response = Person.create(**insert_data)\n",
    "try:\n",
    "    insert_response.__data__['experiences'] = insert_response.experiences\n",
    "    insert_response.__data__['contacts'] = insert_response.contacts\n",
    "except Exception as e:\n",
    "    print(e)\n",
    "\n",
    "print(json.dumps([insert_response.__data__], indent=4))\n",
    "dir(insert_response)"
   ]
  },
  {
   "cell_type": "code",
   "execution_count": null,
   "metadata": {},
   "outputs": [],
   "source": [
    "\n",
    "dir(insert_response.__data__)"
   ]
  },
  {
   "cell_type": "code",
   "execution_count": null,
   "metadata": {},
   "outputs": [],
   "source": [
    "print(json.dumps([{'{}'.format(i):d} for i, d in insert_response.__data__.items()], indent=2))"
   ]
  },
  {
   "cell_type": "code",
   "execution_count": null,
   "metadata": {},
   "outputs": [],
   "source": [
    "print(json.dumps(insert_response.experiences, indent=4))"
   ]
  },
  {
   "cell_type": "code",
   "execution_count": null,
   "metadata": {},
   "outputs": [],
   "source": [
    "print(json.dumps(insert_response.contacts, indent=4))"
   ]
  },
  {
   "cell_type": "code",
   "execution_count": null,
   "metadata": {},
   "outputs": [],
   "source": [
    "print(insert_response.id)"
   ]
  },
  {
   "cell_type": "code",
   "execution_count": null,
   "metadata": {},
   "outputs": [],
   "source": [
    "experiences = Experience().select()"
   ]
  },
  {
   "cell_type": "code",
   "execution_count": null,
   "metadata": {},
   "outputs": [],
   "source": [
    "print([exp for exp in experiences])"
   ]
  },
  {
   "cell_type": "code",
   "execution_count": null,
   "metadata": {},
   "outputs": [],
   "source": [
    "print([Experience(**exp).save() for exp in insert_response.experiences if not exp.update({'person_id':insert_response.id})])"
   ]
  },
  {
   "cell_type": "code",
   "execution_count": null,
   "metadata": {},
   "outputs": [],
   "source": [
    "print(json.dumps(insert_response.experiences, indent=2))"
   ]
  },
  {
   "cell_type": "code",
   "execution_count": null,
   "metadata": {},
   "outputs": [],
   "source": [
    "\n",
    "\n",
    "def bulk_create_experience(experiences, insert_response):\n",
    "    for experience in experiences:\n",
    "        experience.save()\n",
    "        insert_response.append(experience)\n",
    "    return insert_response"
   ]
  },
  {
   "cell_type": "code",
   "execution_count": null,
   "metadata": {},
   "outputs": [],
   "source": []
  }
 ],
 "metadata": {
  "kernelspec": {
   "display_name": "ORM_TEST",
   "language": "python",
   "name": "python3"
  },
  "language_info": {
   "codemirror_mode": {
    "name": "ipython",
    "version": 3
   },
   "file_extension": ".py",
   "mimetype": "text/x-python",
   "name": "python",
   "nbconvert_exporter": "python",
   "pygments_lexer": "ipython3",
   "version": "3.9.18"
  }
 },
 "nbformat": 4,
 "nbformat_minor": 2
}
