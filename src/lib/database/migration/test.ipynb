{
 "cells": [
  {
   "cell_type": "code",
   "execution_count": 1,
   "metadata": {},
   "outputs": [],
   "source": [
    "import datetime"
   ]
  },
  {
   "cell_type": "code",
   "execution_count": 2,
   "metadata": {},
   "outputs": [],
   "source": [
    "\n",
    "\n",
    "today = datetime.date.today()\n",
    "ninety_days = datetime.timedelta(days=90)\n",
    "ninety_days_ago = today - ninety_days\n",
    "\n"
   ]
  },
  {
   "cell_type": "code",
   "execution_count": 145,
   "metadata": {},
   "outputs": [
    {
     "name": "stdout",
     "output_type": "stream",
     "text": [
      "2024-05-14\n",
      "90 days, 0:00:00\n",
      "2024-02-14\n"
     ]
    }
   ],
   "source": [
    "print(str(today))\n",
    "print(ninety_days)\n",
    "print(ninety_days_ago)"
   ]
  },
  {
   "cell_type": "code",
   "execution_count": 209,
   "metadata": {},
   "outputs": [
    {
     "data": {
      "text/plain": [
       "datetime.date(2020, 2, 29)"
      ]
     },
     "execution_count": 209,
     "metadata": {},
     "output_type": "execute_result"
    }
   ],
   "source": [
    "datetime.date.fromisoformat(str('2020-03-30')) - datetime.timedelta(days=30)"
   ]
  },
  {
   "cell_type": "code",
   "execution_count": 203,
   "metadata": {},
   "outputs": [],
   "source": [
    "def date_range_gte(start_date, end_date, min_permanence_days=90):\n",
    "    return (datetime.date.fromisoformat(str(end_date)) - datetime.date.fromisoformat(str(start_date))).days >= min_permanence_days"
   ]
  },
  {
   "cell_type": "code",
   "execution_count": 205,
   "metadata": {},
   "outputs": [
    {
     "data": {
      "text/plain": [
       "True"
      ]
     },
     "execution_count": 205,
     "metadata": {},
     "output_type": "execute_result"
    }
   ],
   "source": [
    "date_range_gte('2024-02-13', '2024-05-14', 90)"
   ]
  },
  {
   "cell_type": "code",
   "execution_count": null,
   "metadata": {},
   "outputs": [],
   "source": []
  },
  {
   "cell_type": "code",
   "execution_count": 140,
   "metadata": {},
   "outputs": [],
   "source": [
    "class FindExperiencesWithPermanenceDays:\n",
    "    \n",
    "    __query = \"\"\n",
    "    __query_result = []\n",
    "    \n",
    "    company_name           =      None\n",
    "    min_permanence_days    =      90\n",
    "    person_id              =      00\n",
    "    start_date             =      None\n",
    "    end_date               =      None\n",
    "    \n",
    "    def __init__(self, company_name=None, min_permanence_days = 90, person_id = 0, start_date = None, end_date = None):\n",
    "        self.company_name           =       company_name\n",
    "        self.min_permanence_days    =       min_permanence_days\n",
    "        self.person_id              =       person_id\n",
    "        self.start_date             =       datetime.date.today() - datetime.timedelta(days=min_permanence_days+2) if start_date is None else start_date\n",
    "        self.end_date               =       datetime.date.today() if end_date is None else end_date\n",
    "        self.start_date             =       str(self.start_date)\n",
    "        self.end_date               =       str(self.end_date)\n",
    "    \n",
    "    def __str__(self):\n",
    "        return f\"FindExperiencesWithPermanenceDays(company_name={self.company_name}, min_permanence_days={self.min_permanence_days}, person_id={self.person_id}, start_date={self.start_date}, end_date={self.end_date})\"\n",
    "    \n",
    "    def __repr__(self):\n",
    "        l = [7, 0, 10, 9, 11]\n",
    "        print('company_name'         ,  ': ', ' '*l[0]      ,    self.company_name)\n",
    "        print('min_permanence_days'  ,  ': ', ' '*l[1]      ,    self.min_permanence_days)\n",
    "        print('person_id'            ,  ': ', ' '*l[2]      ,    self.person_id)\n",
    "        print('start_date'           ,  ': ', ' '*l[3]      ,    self.start_date)\n",
    "        print('end_date'             ,  ': ', ' '*l[4]      ,    self.end_date)\n",
    "                \n",
    "        return list((self.company_name, self.min_permanence_days, self.person_id, self.start_date, self.end_date))    "
   ]
  },
  {
   "cell_type": "code",
   "execution_count": 143,
   "metadata": {},
   "outputs": [],
   "source": [
    "company_name='Allari'\n",
    "min_permanence_days=90\n",
    "person_id=0\n",
    "start_date=datetime.date.today() - datetime.timedelta(days=min_permanence_days)\n",
    "start_date=None\n",
    "end_date=datetime.date.today() - datetime.timedelta(days=1)\n",
    "\n",
    "instance = FindExperiencesWithPermanenceDays(\n",
    "    company_name=company_name,\n",
    "    min_permanence_days=min_permanence_days,\n",
    "    person_id=person_id,\n",
    "    start_date=start_date,\n",
    "    end_date=end_date\n",
    ")"
   ]
  },
  {
   "cell_type": "code",
   "execution_count": 144,
   "metadata": {},
   "outputs": [
    {
     "name": "stdout",
     "output_type": "stream",
     "text": [
      "company_name :          Allari\n",
      "min_permanence_days :   90\n",
      "person_id :             0\n",
      "start_date :            2024-02-12\n",
      "end_date :              2024-05-13\n",
      "----------------------------------------------------------------\n",
      "company_name :          Allari       |  Allari\n",
      "min_permanence_days :   90           |  90\n",
      "person_id :             0            |  0\n",
      "start_date :            None         |  2024-02-12\n",
      "end_date :             2024-05-13    |  2024-05-13\n"
     ]
    }
   ],
   "source": [
    "resp_company_name, resp_min_permanence_days, resp_person_id, resp_start_date, resp_end_date = instance.__repr__()\n",
    "l = [7, 0, 10, 9 if start_date is None else 8, 10]\n",
    "s = [4, 8, 9, 6 if l[3] == 9 else 1, 1]\n",
    "print('-'*64)\n",
    "print('company_name'         ,  ': ', ' '*l[0]  , company_name          , ' '*s[0],  ' | ' , resp_company_name)\n",
    "print('min_permanence_days'  ,  ': ', ' '*l[1]  , min_permanence_days   , ' '*s[1],  ' | ' , resp_min_permanence_days)\n",
    "print('person_id'            ,  ': ', ' '*l[2]  , person_id             , ' '*s[2],  ' | ' , resp_person_id)\n",
    "print('start_date'           ,  ': ', ' '*l[3]  , start_date            , ' '*s[3],  ' | ' , resp_start_date)\n",
    "print('end_date'             ,  ': ', ' '*l[4]  , end_date              , ' '*s[4],  ' | ' , resp_end_date)\n"
   ]
  },
  {
   "cell_type": "code",
   "execution_count": null,
   "metadata": {},
   "outputs": [],
   "source": []
  }
 ],
 "metadata": {
  "kernelspec": {
   "display_name": "ORM_TEST",
   "language": "python",
   "name": "python3"
  },
  "language_info": {
   "codemirror_mode": {
    "name": "ipython",
    "version": 3
   },
   "file_extension": ".py",
   "mimetype": "text/x-python",
   "name": "python",
   "nbconvert_exporter": "python",
   "pygments_lexer": "ipython3",
   "version": "3.9.18"
  }
 },
 "nbformat": 4,
 "nbformat_minor": 2
}
